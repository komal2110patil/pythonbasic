{
  "nbformat": 4,
  "nbformat_minor": 0,
  "metadata": {
    "colab": {
      "provenance": []
    },
    "kernelspec": {
      "name": "python3",
      "display_name": "Python 3"
    },
    "language_info": {
      "name": "python"
    }
  },
  "cells": [
    {
      "cell_type": "code",
      "source": [
        "# 1] what is python, and why is it popular?\n",
        "#ans- python is high level interpreted programming language known for its simplicity and readibility\n",
        "#it is popular beacuase python is very easy to learn , you can build wide veriety of application using python\n",
        "\n",
        "# 2] what is an interpreter in python?\n",
        "# ans- python being a scipting language it contain software package means interoreter\n",
        "\n",
        "# 3] what are pre-defined keywords in python?\n",
        "# ans- kewords are reserved words in python that have special meanings keywords are case sensitive and cannot be redefined and overriden\n",
        "# within a python progamme.\n",
        "\n",
        "# 4] can keywords be used as variable names?\n",
        "# ans- no keywords cannot be used as variable names.\n",
        "\n",
        "# 5] what is mutability in python?\n",
        "# ans- mutability affects how objects are stored and manipulated in memory, impacting performance, memory usage and concurrency in python.\n",
        "\n",
        "# 6] why are lists mutable but tuples are immutable?\n",
        "# ans- list can be modified after creation but tuples cannot be modified after creation.\n"
      ],
      "metadata": {
        "id": "eQ2VUxkYun87"
      },
      "execution_count": null,
      "outputs": []
    },
    {
      "cell_type": "code",
      "execution_count": null,
      "metadata": {
        "id": "idB1tmsnuVV3"
      },
      "outputs": [],
      "source": [
        "# python basic\n"
      ]
    },
    {
      "cell_type": "code",
      "source": [
        "# 7] what is the difference between '==' and 'is' operator in python?\n",
        "# ans- '==' operator compares the value or equality of ywo objects.\n",
        "# 'is' operator checks whether two variables points to the same object in memory.\n",
        "\n",
        "# 8] what are logical operators in python?\n",
        "#ans- logical operators are used to combine conditional expressions\n",
        "# AND, OR, NOT are logical operators\n",
        "\n",
        "# 9] what is type casting in python?\n",
        "# ans- explicitely doing conversion of data type called type casting.\n",
        "\n",
        "# 10] what is the difference between implicit and explicit type casting?\n",
        "# ans- implicit type casting is automatic while explicit type casting requires manual intervention.\n",
        "\n",
        "# 11] what is the purpose of conditional statements in python?\n",
        "# ans- conditionals in python are used to execute code based on evaluation of one or more condition.\n",
        "\n",
        "# 12] how does the elif statement work?\n",
        "# ans- if the first condition is false , it moves on to the next 'elif' statement to chech if that condition is true.\n",
        "\n",
        "# 13] what is the difference between for and while loop?\n",
        "# ans- for loop used when the number of iterations is known in advance\n",
        "#while loop used when the number of iterations is unknown in advance.\n",
        "\n",
        "# 14] describe a scenario where a while loop is more suitable than a for loop?\n",
        "# ans- in contrast to a for loop, which is generally used when the number of iterations is known beforehand, a while loop is ideal for\n",
        "# situations where the no of iterations is not predetermined and depend on dynamic conditions."
      ],
      "metadata": {
        "id": "oHP1pzGh03xw"
      },
      "execution_count": null,
      "outputs": []
    },
    {
      "cell_type": "code",
      "source": [],
      "metadata": {
        "id": "nXb3xtHzHNWz"
      },
      "execution_count": null,
      "outputs": []
    }
  ]
}